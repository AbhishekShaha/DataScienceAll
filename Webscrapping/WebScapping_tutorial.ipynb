{
 "cells": [
  {
   "cell_type": "markdown",
   "metadata": {},
   "source": [
    "# WebScrapping Tutorial\n",
    "# Syed Owais Chishti\n",
    "# Data Scientist\n",
    "\n",
    "## Preparing to become Data Scientist? but think of a data Scientist without data sets, same as driving a car without wheels.\n",
    "\n",
    "\n",
    ">## You can have data without information, but you cannot have information without data.\n",
    "<h1><font color='black'>  - Daniel Keys Moran</font></h1>(author of books like \"A.I War\" and \"The Big Boost\")\n",
    "\n",
    "\n",
    "## You might be thinking that now adays data sets are very easy to get like we can get data sets from [Kaggle](https://www.kaggle.com/datasets), [UCI Repository](https://archive.ics.uci.edu/ml/datasets.html) etc.\n",
    "## But not every data set of your need is present on these sites, also what size of data set is needed is some times sacrifised. Because now we work on Neural Nets which require alot of data for training to obtain desired train/validation/test results. \n",
    "\n",
    "## But according to you getting larger data sets is only solution to accuracy problems? Well,  NO! there are several methods to reduce such issues like e.g.\n",
    "\n",
    "* Transfer Learning.\n",
    "* Bias/Variance Tradeoff.\n",
    "* Regularization techniques etc.\n",
    "\n",
    "(Shall be discussed in next tutorials)."
   ]
  },
  {
   "cell_type": "markdown",
   "metadata": {},
   "source": [
    "## But every ML/DL project starts with data, In this tutorial we will learn how to extract data from websites of our choice with 'Python' and 'Beautiful Soup' and little knowledge of html and css can help and if you want to learn about HTML and CSS tags basics, Link [W3School](https://www.w3schools.com/html/default.asp).\n",
    "\n",
    "## Then let's dive into it."
   ]
  },
  {
   "cell_type": "markdown",
   "metadata": {},
   "source": [
    "## Beautiful Soup is Python Library used to extract data from websites. To read more refer to this link: [Beautiful Soup](https://www.crummy.com/software/BeautifulSoup/bs4/doc/). I am using Anaconda enviroment with Python 3.6.x [Download Anaconda](https://www.anaconda.com/download/).\n",
    "\n",
    "## To install beautiful soup library, open cmd in windows or terminal in Linux/Mac.\n",
    "<p>>>> pip install beautifulsoup4</p>\n",
    "<p>>>> pip install lxml</p>\n",
    "\n",
    "## The example site used in this tutorial is [Elacsoft](https://elacsoft.github.io/).\n",
    "\n",
    "![Image of Web](images/webpage.JPG)"
   ]
  },
  {
   "cell_type": "markdown",
   "metadata": {},
   "source": [
    "## Let's check what data from this site we get."
   ]
  },
  {
   "cell_type": "code",
   "execution_count": 2,
   "metadata": {},
   "outputs": [
    {
     "name": "stdout",
     "output_type": "stream",
     "text": [
      "<!DOCTYPE html>\n",
      "<html lang=\"en\">\n",
      "<head>\n",
      "<meta charset=\"utf-8\"/>\n",
      "<title>ElacSoft</title>\n",
      "<style>\n",
      "\tdiv.banner {  color: red; }\n",
      "\t\th1 {\n",
      "\t\t\tcolor: red;\n",
      "\t\t}\n",
      "\t\tp {\n",
      "\t\t\tmargin: 1rem;\n",
      "\t\t}\n",
      "\t\tbody { \n",
      "    background-repeat: no-repeat;\n",
      "    background-attachment: fixed;background-size: 100% 100%\n",
      "}\n",
      "\t</style>\n",
      "</head><body><img src=\"logo.png\" width=\"200px\"/>\n",
      "</body>\n",
      "<blockquote><hr/>\n",
      "<h1>SYED OWAIS CHISHTI</h1><h1>'E' LAC SOFT</h1><hr/></blockquote><br/><br/>\n",
      "<iframe frameborder=\"0\" height=\"288\" scrolling=\"no\" src=\"https://onedrive.live.com/embed?cid=6B58FDDF65658C0E&amp;resid=6B58FDDF65658C0E%21104&amp;authkey=AMVRVjvzGn31FNY&amp;em=2\" width=\"476\"></iframe>\n",
      "<p align=\"center\"><iframe allowfullscreen=\"\" frameborder=\"0\" height=\"315\" src=\"https://www.youtube.com/embed/GEcVbKZshSQ\" width=\"560\"></iframe></p>\n",
      "<audio autoplay=\"\" controls=\"\" src=\"27755175.mp3\">\n",
      "  Your browser does not support the audio file.\n",
      "</audio><br/><br/>\n",
      "<details>\n",
      "<summary style=\"color: blue\">Contact Details</summary>\n",
      "<ul style=\"color: yellow\">\n",
      "<li><blockquote>\n",
      "<a href=\"mailto:elacsoft@gmail.com\">elacsoft@gmail.com</a></blockquote></li>\n",
      "<li> <p style=\"color: yellow\">0313-2609629</p></li></ul>\n",
      "<p style=\"color: yellow\">For more details be fast to grab an <mark>APPOINTMENT</mark></p>\n",
      "</details><br/><br/>\n",
      "<div class=\"banner\">\n",
      "<details>\n",
      "<summary style=\"color: blue\">About 'E' LAC SOFT</summary><ul>\n",
      "<li><p></p><h4>We provide help and services in following</h4></li>\n",
      "<li><p></p><h2>Electronics</h2></li>\n",
      "<li><p></p><h4>Arduino programming</h4></li>\n",
      "<li><p></p><h4>Libraries and sketches</h4></li>\n",
      "<li><p></p><h4>Raspberry Pi programming</h4></li>\n",
      "<li><p></p><h4>FPGA Programming</h4></li>\n",
      "<li><p></p><h4>Logic Designing</h4></li>\n",
      "<li><p></p><h4>IC Manufacturing</h4></li>\n",
      "<li><p></p><h4>PLC and HMI programming</h4></li>\n",
      "<li><p></p><h4>Delta,AllenBradley,Omron,Siemens,Fatek,Xinje,Mitsubishi,Advance,Advantech<br/>All models of above PLC's and HMI's</h4></li>\n",
      "<li><p></p><h4>ESP8266 and NodeMCU programming</h4></li>\n",
      "<li><p></p><h4>VFD programming</h4></li>\n",
      "<li><p></p><h2>Software and electronics</h2></li>\n",
      "<li><p></p><h4>IoT</h4></li>\n",
      "<li><p></p><h4>Php programming</h4></li>\n",
      "<li><p></p><h4>Javascript programming</h4></li>\n",
      "<li><p></p><h4>HTML5 and CSS3 programming</h4></li>\n",
      "<li><p></p><h4>SQL programming</h4></li>\n",
      "<li><p></p><h4>Web Server development with Apache, XAMPP, PHP etc</h4></li>\n",
      "<li><p></p><h4>Blynk Servers</h4></li>\n",
      "<li><p></p><h4>Website development, designing and Hosting</h4></li>\n",
      "<li><p></p><h4>Android Studio for Android app development</h4></li>\n",
      "<li><p></p><h4>Java for Android app development</h4></li>\n",
      "<li><p></p><h4>Objective C and Swift for IOS app development</h4></li>\n",
      "<li><p></p><h4>Port Forwarding</h4></li>\n",
      "<li><p></p><h4>MATLAB and Simulink</h4></li>\n",
      "<li><p></p><h4>LabView</h4></li>\n",
      "<li><p></p><h4>Image Processing with Python and MATLAB</h4></li>\n",
      "<li><p></p><h4>Python 2 and 3</h4></li>\n",
      "<li><p></p><h4>C, C++, C# programming</h4></li>\n",
      "<li><p></p><h4>Linux Programming</h4></li>\n",
      "<li><p></p><h4>Ethical hacking using Kali Linux</h4></li><br/><br/>\n",
      "<p></p><h2>The Best Part is I individually have used all above listed items in different Applications, platforms and projects. I am in <mark>final semester of B.E Electronics from NEDUET</mark> but due to two(2) jobs between my academy life namely</h2><li>ILES Interprises</li><br/>and present one<br/><li>E-Lab Pakistan</li> give me a lot of experience and hands on work in <mark>BOTH</mark> Electronics and Software Industries.<br/>\n",
      "<mark>THAT IS THE REASON MY WEBSITE NAME IS 'E' LAC SOFT, WHICH MEANS IF LESS OR NO RESOURCES FOR ELECTRONICS MIX SOFTWARE TO BE SUCCEDED AND REALLY INTERNATIONALLY SOFTWARE IS A PART OF ELECTRONICS<br/>DON'T BLAM CHOOSE PATH</mark></ul></details>\n",
      "</div><br/><br/>\n",
      "<blockquote>\n",
      "<hr/><img src=\"app1.png\" width=\"200px\"/><img src=\"app2.png\" width=\"200px\"/><img height=\"350px\" src=\"amazonappstore.png\" width=\"600px\"/><span style=\"color: blue\"><p></p><h4>Download ESPController Android App from Amazon App Store for FREE to control ESP8266 Module listed below, download application by clicking <a href=\"https://www.amazon.com/SOC-ESP-Controller/dp/B0751PM7VP/ref=sr_1_3?s=mobile-apps&amp;ie=UTF8&amp;qid=1504716456&amp;sr=1-3&amp;keywords=esp\" target=\"_blank\">THIS </a> and dont forget to change settings of application from other sources in Settings</h4></span><hr/>\n",
      "</blockquote><br/>\n",
      "<span style=\"color: red\"><p></p><h5>Are you <mark>Fedup</mark>to the problems associated with Wifi Modules or with the performance or with thier costs? How about Controlling Your Arduino <mark>Wthout any Wifi Module or Shield</mark>Press the following button then.\n",
      "</h5><br/>\n",
      "<form>\n",
      "<a href=\"blynk.html\" style=\"color: blue\" target=\"_blank\"><input type=\"button\" value=\"Control Arduino with Android App without Wifi Module\"/></a></form><br/><br/>\n",
      "<form>\n",
      "<a href=\"https://github.com/elacsoft/DataScience\" style=\"color: blue\" target=\"_blank\"><input type=\"button\" value=\"Facebook Sentiment Analysis Complete Tutorial\"/></a></form><br/><br/>\n",
      "<form>\n",
      "<a href=\"https://github.com/elacsoft/Research-Papers/tree/master/Deep%20Learning%20in%20Production\" style=\"color: blue\" target=\"_blank\"><input type=\"button\" value=\"Deep Learning in Production-- Research Paper\"/></a></form><br/><br/>\n",
      "<form>\n",
      "<a download=\"Att_Sys_GUI\" href=\"GUI.7z\" style=\"color: blue\" target=\"_blank\"><input type=\"button\" value=\"Att_Sys_GUI\"/></a></form><br/><br/>\n",
      "<form>\n",
      "<a href=\"LeapMotion.html\" style=\"color: blue\" target=\"_blank\"><input type=\"button\" value=\"Leap Motion with Python\"/></a></form><br/><br/>\n",
      "<form>\n",
      "<a href=\"ModeBus.html\" style=\"color: blue\" target=\"_blank\"><input type=\"button\" value=\"Raspberry Pi and PLC Communication\"/></a></form><br/><br/>\n",
      "<form>\n",
      "<a download=\"SVM Python code\" href=\"svm_code.py\" style=\"color: blue\" target=\"_blank\"><input type=\"button\" value=\"SVM Python Code\"/></a></form><br/><br/>\n",
      "<form>\n",
      "<a href=\"https://youtu.be/7AcStx0SXSo\" style=\"color: blue\" target=\"_blank\"><input type=\"button\" value=\"How to set Spark Enviroment on OS X\"/></a></form><br/><br/>\n",
      "<form>\n",
      "<a href=\"MPPT_HCS_DFIG_WT.html\" style=\"color: blue\" target=\"_blank\"><input type=\"button\" value=\"MPPT with DFIG Wind Turbine, HCS Algorithm\"/></a></form><br/><br/>\n",
      "<form>\n",
      "<a href=\"basics.html\" style=\"color: blue\" target=\"_blank\"><input type=\"button\" value=\"Controlling GPIOs of RPi 3 with Android app and run time video streaming\"/></a></form><br/><br/>\n",
      "<form>\n",
      "<a href=\"Arduin_code.html\" style=\"color: blue\" target=\"_blank\"><input type=\"button\" value=\"Wifi control and acqusition for ESP826 Generic module with android App\"/></a></form><br/><br/>\n",
      "<form>\n",
      "<a href=\"\" style=\"color: blue\" target=\"_self\"><input type=\"button\" value=\"NRF24L01 module Walkie Talkie system for 6 sets and with choose control\"/></a></form><br/><br/>\n",
      "<form>\n",
      "<a href=\"POWER_JERKS.html\" style=\"color: blue\" target=\"_blank\"><input type=\"button\" value=\"Electric Jerks and Remedies\"/></a></form><br/><br/>\n",
      "<form>\n",
      "<a href=\"Power_Jerks_proposal.html\" style=\"color: blue\" target=\"_blank\"><input type=\"button\" value=\"TOS Project\"/></a></form><br/><br/>\n",
      "<form>\n",
      "<a href=\"ee_proj.html\" style=\"color: blue\" target=\"_blank\"><input type=\"button\" value=\"Click to see more Electrical Project Ideas\"/></a></form><br/><br/>\n",
      "<form>\n",
      "<a href=\"\" style=\"color: blue\" target=\"_self\"><input type=\"button\" value=\"Return to TOP\"/></a></form><br/><br/>\n",
      "</span></html>\n",
      "\n"
     ]
    }
   ],
   "source": [
    "import bs4 as bs\n",
    "import urllib.request\n",
    "\n",
    "sauce = urllib.request.urlopen('https://elacsoft.github.io/').read()\n",
    "\n",
    "soup = bs.BeautifulSoup(sauce, 'lxml')\n",
    "print(soup)"
   ]
  },
  {
   "cell_type": "markdown",
   "metadata": {},
   "source": [
    "## This is the complete HTML and CSS code of this website.\n",
    "\n",
    "## Let's check Title of the site."
   ]
  },
  {
   "cell_type": "code",
   "execution_count": 9,
   "metadata": {},
   "outputs": [
    {
     "name": "stdout",
     "output_type": "stream",
     "text": [
      "ElacSoft\n"
     ]
    }
   ],
   "source": [
    "print(soup.title.string)"
   ]
  },
  {
   "cell_type": "markdown",
   "metadata": {},
   "source": [
    "## Get all URL's in this site, also which URL belongs to which title string."
   ]
  },
  {
   "cell_type": "code",
   "execution_count": 24,
   "metadata": {},
   "outputs": [
    {
     "name": "stdout",
     "output_type": "stream",
     "text": [
      "<a href=\"mailto:elacsoft@gmail.com\">elacsoft@gmail.com</a>\n",
      "-----\n",
      "mailto:elacsoft@gmail.com\n",
      "\n",
      "\n",
      "\n",
      "<a href=\"https://www.amazon.com/SOC-ESP-Controller/dp/B0751PM7VP/ref=sr_1_3?s=mobile-apps&amp;ie=UTF8&amp;qid=1504716456&amp;sr=1-3&amp;keywords=esp\" target=\"_blank\">THIS </a>\n",
      "-----\n",
      "https://www.amazon.com/SOC-ESP-Controller/dp/B0751PM7VP/ref=sr_1_3?s=mobile-apps&ie=UTF8&qid=1504716456&sr=1-3&keywords=esp\n",
      "\n",
      "\n",
      "\n",
      "<a href=\"blynk.html\" style=\"color: blue\" target=\"_blank\"><input type=\"button\" value=\"Control Arduino with Android App without Wifi Module\"/></a>\n",
      "-----\n",
      "blynk.html\n",
      "\n",
      "\n",
      "\n",
      "<a href=\"https://github.com/elacsoft/DataScience\" style=\"color: blue\" target=\"_blank\"><input type=\"button\" value=\"Facebook Sentiment Analysis Complete Tutorial\"/></a>\n",
      "-----\n",
      "https://github.com/elacsoft/DataScience\n",
      "\n",
      "\n",
      "\n",
      "<a href=\"https://github.com/elacsoft/Research-Papers/tree/master/Deep%20Learning%20in%20Production\" style=\"color: blue\" target=\"_blank\"><input type=\"button\" value=\"Deep Learning in Production-- Research Paper\"/></a>\n",
      "-----\n",
      "https://github.com/elacsoft/Research-Papers/tree/master/Deep%20Learning%20in%20Production\n",
      "\n",
      "\n",
      "\n",
      "<a download=\"Att_Sys_GUI\" href=\"GUI.7z\" style=\"color: blue\" target=\"_blank\"><input type=\"button\" value=\"Att_Sys_GUI\"/></a>\n",
      "-----\n",
      "GUI.7z\n",
      "\n",
      "\n",
      "\n",
      "<a href=\"LeapMotion.html\" style=\"color: blue\" target=\"_blank\"><input type=\"button\" value=\"Leap Motion with Python\"/></a>\n",
      "-----\n",
      "LeapMotion.html\n",
      "\n",
      "\n",
      "\n",
      "<a href=\"ModeBus.html\" style=\"color: blue\" target=\"_blank\"><input type=\"button\" value=\"Raspberry Pi and PLC Communication\"/></a>\n",
      "-----\n",
      "ModeBus.html\n",
      "\n",
      "\n",
      "\n",
      "<a download=\"SVM Python code\" href=\"svm_code.py\" style=\"color: blue\" target=\"_blank\"><input type=\"button\" value=\"SVM Python Code\"/></a>\n",
      "-----\n",
      "svm_code.py\n",
      "\n",
      "\n",
      "\n",
      "<a href=\"https://youtu.be/7AcStx0SXSo\" style=\"color: blue\" target=\"_blank\"><input type=\"button\" value=\"How to set Spark Enviroment on OS X\"/></a>\n",
      "-----\n",
      "https://youtu.be/7AcStx0SXSo\n",
      "\n",
      "\n",
      "\n",
      "<a href=\"MPPT_HCS_DFIG_WT.html\" style=\"color: blue\" target=\"_blank\"><input type=\"button\" value=\"MPPT with DFIG Wind Turbine, HCS Algorithm\"/></a>\n",
      "-----\n",
      "MPPT_HCS_DFIG_WT.html\n",
      "\n",
      "\n",
      "\n",
      "<a href=\"basics.html\" style=\"color: blue\" target=\"_blank\"><input type=\"button\" value=\"Controlling GPIOs of RPi 3 with Android app and run time video streaming\"/></a>\n",
      "-----\n",
      "basics.html\n",
      "\n",
      "\n",
      "\n",
      "<a href=\"Arduin_code.html\" style=\"color: blue\" target=\"_blank\"><input type=\"button\" value=\"Wifi control and acqusition for ESP826 Generic module with android App\"/></a>\n",
      "-----\n",
      "Arduin_code.html\n",
      "\n",
      "\n",
      "\n",
      "<a href=\"\" style=\"color: blue\" target=\"_self\"><input type=\"button\" value=\"NRF24L01 module Walkie Talkie system for 6 sets and with choose control\"/></a>\n",
      "-----\n",
      "\n",
      "\n",
      "\n",
      "\n",
      "<a href=\"POWER_JERKS.html\" style=\"color: blue\" target=\"_blank\"><input type=\"button\" value=\"Electric Jerks and Remedies\"/></a>\n",
      "-----\n",
      "POWER_JERKS.html\n",
      "\n",
      "\n",
      "\n",
      "<a href=\"Power_Jerks_proposal.html\" style=\"color: blue\" target=\"_blank\"><input type=\"button\" value=\"TOS Project\"/></a>\n",
      "-----\n",
      "Power_Jerks_proposal.html\n",
      "\n",
      "\n",
      "\n",
      "<a href=\"ee_proj.html\" style=\"color: blue\" target=\"_blank\"><input type=\"button\" value=\"Click to see more Electrical Project Ideas\"/></a>\n",
      "-----\n",
      "ee_proj.html\n",
      "\n",
      "\n",
      "\n",
      "<a href=\"\" style=\"color: blue\" target=\"_self\"><input type=\"button\" value=\"Return to TOP\"/></a>\n",
      "-----\n",
      "\n",
      "\n",
      "\n",
      "\n"
     ]
    }
   ],
   "source": [
    "for urls in soup.find_all('a'):\n",
    "    print(urls)\n",
    "    print(\"-----\")\n",
    "    print(urls.get('href'))\n",
    "    print('\\n\\n')"
   ]
  },
  {
   "cell_type": "markdown",
   "metadata": {},
   "source": [
    "## Let's check the list of projects.\n",
    "projects are listed as button objects in website."
   ]
  },
  {
   "cell_type": "code",
   "execution_count": 39,
   "metadata": {},
   "outputs": [
    {
     "name": "stdout",
     "output_type": "stream",
     "text": [
      "Control Arduino with Android App without Wifi Module\n",
      "Facebook Sentiment Analysis Complete Tutorial\n",
      "Deep Learning in Production-- Research Paper\n",
      "Att_Sys_GUI\n",
      "Leap Motion with Python\n",
      "Raspberry Pi and PLC Communication\n",
      "SVM Python Code\n",
      "How to set Spark Enviroment on OS X\n",
      "MPPT with DFIG Wind Turbine, HCS Algorithm\n",
      "Controlling GPIOs of RPi 3 with Android app and run time video streaming\n",
      "Wifi control and acqusition for ESP826 Generic module with android App\n",
      "NRF24L01 module Walkie Talkie system for 6 sets and with choose control\n",
      "Electric Jerks and Remedies\n",
      "TOS Project\n",
      "Click to see more Electrical Project Ideas\n",
      "Return to TOP\n"
     ]
    }
   ],
   "source": [
    "for projects in soup.find_all('form'):\n",
    "    print(projects.a.input.get('value'))"
   ]
  },
  {
   "attachments": {},
   "cell_type": "markdown",
   "metadata": {},
   "source": [
    "## Hey, Computer Visionists, You can also get images directly with Python and Beautiful Soup. For demo I am using Cat images from [Pixabay.com](https://pixabay.com/en/photos/cat/).\n",
    "\n",
    "![Cat_images](images/pixabay.JPG)\n",
    "\n",
    "### also for demo purpose I will download only 5 images you can change the number of images with 'count' variable used in below code.\n",
    "\n",
    "### !Google and some secure sites gives '403 Forbidden Error' due to secure servers."
   ]
  },
  {
   "cell_type": "code",
   "execution_count": 50,
   "metadata": {},
   "outputs": [
    {
     "name": "stdout",
     "output_type": "stream",
     "text": [
      "https://cdn.pixabay.com/photo/2018/01/25/14/12/nature-3106213__340.jpg\n",
      "https://cdn.pixabay.com/photo/2018/01/28/12/37/british-shorthair-3113513__340.jpg\n",
      "https://cdn.pixabay.com/photo/2018/01/22/21/12/lion-3099986__340.jpg\n",
      "https://cdn.pixabay.com/photo/2017/12/26/16/09/lion-3040797__340.jpg\n",
      "https://cdn.pixabay.com/photo/2018/02/21/18/24/cat-3171125__340.jpg\n"
     ]
    }
   ],
   "source": [
    "sauce = urllib.request.urlopen(\"https://pixabay.com/en/photos/cat/\").read()\n",
    "soup = bs.BeautifulSoup(sauce, 'lxml')\n",
    "count = 0\n",
    "for imgs in soup.find_all('img'):\n",
    "    print(imgs.get('src'))\n",
    "    count += 1\n",
    "    if count == 5:\n",
    "        break\n",
    "    else:\n",
    "        pass"
   ]
  },
  {
   "cell_type": "markdown",
   "metadata": {},
   "source": [
    "## You might be thinking what I will do with these URLs, I want images in my directory.\n",
    "\n",
    "## Best part, check the code below, it will save your counted images in your directory."
   ]
  },
  {
   "cell_type": "code",
   "execution_count": 53,
   "metadata": {},
   "outputs": [
    {
     "name": "stdout",
     "output_type": "stream",
     "text": [
      "https://cdn.pixabay.com/photo/2018/01/25/14/12/nature-3106213__340.jpg\n",
      "https://cdn.pixabay.com/photo/2018/01/28/12/37/british-shorthair-3113513__340.jpg\n",
      "https://cdn.pixabay.com/photo/2018/01/22/21/12/lion-3099986__340.jpg\n",
      "https://cdn.pixabay.com/photo/2017/12/26/16/09/lion-3040797__340.jpg\n",
      "https://cdn.pixabay.com/photo/2018/02/21/18/24/cat-3171125__340.jpg\n"
     ]
    }
   ],
   "source": [
    "sauce = urllib.request.urlopen(\"https://pixabay.com/en/photos/cat/\").read()\n",
    "soup = bs.BeautifulSoup(sauce, 'lxml')\n",
    "count = 0\n",
    "i = 1\n",
    "for imgs in soup.find_all('img'):\n",
    "    #print(imgs.get('src'))\n",
    "    temp = imgs.get('src')\n",
    "    count += 1\n",
    "    if temp[:1] == \"/\":\n",
    "        image = \"https://pixabay.com/en/photos/cat\" + temp\n",
    "    else:\n",
    "        image = temp\n",
    "    print(image)\n",
    "    nametemp = imgs.get('alt')\n",
    "    if len(nametemp) == 0:\n",
    "        filename = str(i)\n",
    "        i+=1\n",
    "    else:\n",
    "        filename = nametemp\n",
    "    imagefile = open(filename + '.jpeg','wb')\n",
    "    imagefile.write(urllib.request.urlopen(image).read())\n",
    "    imagefile.close()\n",
    "    if count == 5:\n",
    "        break\n",
    "    else:\n",
    "        pass\n"
   ]
  },
  {
   "cell_type": "markdown",
   "metadata": {},
   "source": [
    "## Check my directory as well.\n",
    "\n",
    "![downloaded_images](images/gotimages.JPG)"
   ]
  },
  {
   "cell_type": "markdown",
   "metadata": {},
   "source": [
    "# Hope you like this tutorial.\n",
    "\n",
    "## In next tutorial we will learn about Twitter sentiment analysis.\n",
    "\n",
    "## Check my other tutorials as well, and also give your reviews on my research papers.\n",
    "\n",
    "* [More Tutorials on GitHub](https://github.com/elacsoft)\n",
    "* [Research Papers](https://github.com/elacsoft/Research-Papers)\n",
    "\n",
    "## Syed Owais Chishti\n",
    "### Data Scientist.\n",
    "\n",
    ">* [MyWebsite](http://elacsoft.cf) \n",
    "* [MyTwitterAccount](https://twitter.com/robertw26984557)\n",
    "* [MyFacebookAccount](https://www.facebook.com/owais.chishti.35)\n",
    "* [MyGitHubAccount](https://github.com/elacsoft)\n",
    "* [MyYoutubeChannel](https://www.youtube.com/channel/UCWha7dSnT_k7mBGJ0XFB0IQ)\n",
    "* [elacsoft@gmail.com](elacsoft@gmail.com)"
   ]
  },
  {
   "cell_type": "code",
   "execution_count": null,
   "metadata": {
    "collapsed": true
   },
   "outputs": [],
   "source": []
  }
 ],
 "metadata": {
  "kernelspec": {
   "display_name": "Python 3",
   "language": "python",
   "name": "python3"
  },
  "language_info": {
   "codemirror_mode": {
    "name": "ipython",
    "version": 3
   },
   "file_extension": ".py",
   "mimetype": "text/x-python",
   "name": "python",
   "nbconvert_exporter": "python",
   "pygments_lexer": "ipython3",
   "version": "3.6.1"
  }
 },
 "nbformat": 4,
 "nbformat_minor": 2
}
